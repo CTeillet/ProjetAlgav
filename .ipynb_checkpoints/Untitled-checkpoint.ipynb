{
 "cells": [
  {
   "cell_type": "code",
   "execution_count": 100,
   "metadata": {},
   "outputs": [],
   "source": [
    "import numpy as np\n",
    "import math as m\n",
    "import matplotlib.pyplot as plt"
   ]
  },
  {
   "cell_type": "code",
   "execution_count": 84,
   "metadata": {},
   "outputs": [],
   "source": [
    "def nuagePoint(n, max) :\n",
    "    x = np.random.randint(max, size=(n,2))\n",
    "    return x"
   ]
  },
  {
   "cell_type": "code",
   "execution_count": 22,
   "metadata": {},
   "outputs": [],
   "source": [
    "def calculDistance(a, b):\n",
    "    return m.sqrt(m.pow(b[0]-a[0], 2) + m.pow(b[1] - a[1], 2))"
   ]
  },
  {
   "cell_type": "code",
   "execution_count": 25,
   "metadata": {},
   "outputs": [],
   "source": [
    "def createCircle(a,b):\n",
    "    return [calculDistance(a,b)/2, [(a[0]+b[0])/2, (a[1]+b[1])/2]]"
   ]
  },
  {
   "cell_type": "code",
   "execution_count": 68,
   "metadata": {},
   "outputs": [],
   "source": [
    "def createCircleInit():\n",
    "    return [float('inf'), [0, 0]]"
   ]
  },
  {
   "cell_type": "code",
   "execution_count": 34,
   "metadata": {},
   "outputs": [],
   "source": [
    "def checkPointCircle(c, p):\n",
    "    return calculDistance(c[1], p) <= c[0]"
   ]
  },
  {
   "cell_type": "code",
   "execution_count": 67,
   "metadata": {},
   "outputs": [],
   "source": [
    "def circleWithAllPoints(c, P):\n",
    "    for p in P:\n",
    "        if( not checkPointCircle(c, p) ):\n",
    "            return False\n",
    "    return True"
   ]
  },
  {
   "cell_type": "code",
   "execution_count": 69,
   "metadata": {},
   "outputs": [],
   "source": [
    "def circleLessRadius(c1, c2):\n",
    "    return c1[0] < c2[0]"
   ]
  },
  {
   "cell_type": "code",
   "execution_count": 94,
   "metadata": {},
   "outputs": [],
   "source": [
    "def circle3Points(p1, p2, p3):\n",
    "    center = np.zeros(2)\n",
    "    a1 = (p1[1]-p3[1]) / (p1[0]-p3[0])\n",
    "    ye = (p1[1] + p3[1]) / 2\n",
    "    xe = (p1[0] + p3[0]) / 2\n",
    "    b1 = ye + (xe/a1)\n",
    "    a2 = (p2[1] - p3[1]) / (p2[0]- p3[0])\n",
    "    xf = (p2[0] + p3[0]) / 2\n",
    "    yf = (p2[1] + p3[1]) / 2\n",
    "    b2 = yf + (xf/a2)\n",
    "    \n",
    "    x0 = (b2-b1) / ((1/a2) - (1/a1))\n",
    "    y0 = -(x0/a1) + b1\n",
    "    p = [x0, y0]\n",
    "    radius = calculDistance(p, p1)\n",
    "    return [radius, p]"
   ]
  },
  {
   "cell_type": "code",
   "execution_count": 105,
   "metadata": {},
   "outputs": [],
   "source": [
    "def circleMin(P) :\n",
    "    if(len(P) == 0):\n",
    "        print(\"Pas de points\")\n",
    "        return None\n",
    "    if(len(P) == 1):\n",
    "        print(\"Un seul Point\")\n",
    "        return createCircle(P[0])\n",
    "    if (len(P) == 2):\n",
    "        return createCircle(P[0], P[1])\n",
    "    else:\n",
    "        circleRes = createCircleInit()\n",
    "        for p1 in P :\n",
    "            for p2 in P:\n",
    "                c = createCircle(p1,p2)\n",
    "                if(circleLessRadius(c, circleRes) and circleWithAllPoints(c, P)):\n",
    "                    circleRes = c\n",
    "        for p1 in P:\n",
    "            for p2 in P:\n",
    "                for p3 in P:\n",
    "                    c = circle3Points(p1, p2, p3)\n",
    "                    print (c)\n",
    "                    if(circleLessRadius(c, circleRes) and circleWithAllPoints(c, P)):\n",
    "                        circleRes = c\n",
    "        return circleRes"
   ]
  },
  {
   "cell_type": "code",
   "execution_count": 96,
   "metadata": {},
   "outputs": [],
   "source": [
    "def listPoints2Tuple(P):\n",
    "    x = np.zeros(len(P))\n",
    "    y = np.zeros(len(P))\n",
    "    for i in range(0, len(P)):\n",
    "        x[i] = P[i][0]\n",
    "        y[i] = P[i][1]\n",
    "    return (x,y)"
   ]
  },
  {
   "cell_type": "code",
   "execution_count": 106,
   "metadata": {},
   "outputs": [
    {
     "name": "stdout",
     "output_type": "stream",
     "text": [
      "False\n"
     ]
    },
    {
     "ename": "TypeError",
     "evalue": "'bool' object is not subscriptable",
     "output_type": "error",
     "traceback": [
      "\u001b[0;31m---------------------------------------------------------------------------\u001b[0m",
      "\u001b[0;31mTypeError\u001b[0m                                 Traceback (most recent call last)",
      "\u001b[0;32m<ipython-input-106-8d7fb79fa9a9>\u001b[0m in \u001b[0;36m<module>\u001b[0;34m\u001b[0m\n\u001b[1;32m      5\u001b[0m \u001b[0mprint\u001b[0m\u001b[0;34m(\u001b[0m\u001b[0mc\u001b[0m\u001b[0;34m)\u001b[0m\u001b[0;34m\u001b[0m\u001b[0;34m\u001b[0m\u001b[0m\n\u001b[1;32m      6\u001b[0m \u001b[0;34m\u001b[0m\u001b[0m\n\u001b[0;32m----> 7\u001b[0;31m \u001b[0mdraw_circle\u001b[0m \u001b[0;34m=\u001b[0m \u001b[0mplt\u001b[0m\u001b[0;34m.\u001b[0m\u001b[0mCircle\u001b[0m\u001b[0;34m(\u001b[0m\u001b[0;34m(\u001b[0m\u001b[0mc\u001b[0m\u001b[0;34m[\u001b[0m\u001b[0;36m1\u001b[0m\u001b[0;34m]\u001b[0m\u001b[0;34m[\u001b[0m\u001b[0;36m0\u001b[0m\u001b[0;34m]\u001b[0m\u001b[0;34m,\u001b[0m \u001b[0mc\u001b[0m\u001b[0;34m[\u001b[0m\u001b[0;36m1\u001b[0m\u001b[0;34m]\u001b[0m\u001b[0;34m[\u001b[0m\u001b[0;36m1\u001b[0m\u001b[0;34m]\u001b[0m\u001b[0;34m)\u001b[0m\u001b[0;34m,\u001b[0m \u001b[0mc\u001b[0m\u001b[0;34m[\u001b[0m\u001b[0;36m0\u001b[0m\u001b[0;34m]\u001b[0m\u001b[0;34m,\u001b[0m\u001b[0mfill\u001b[0m\u001b[0;34m=\u001b[0m\u001b[0;32mFalse\u001b[0m\u001b[0;34m)\u001b[0m\u001b[0;34m\u001b[0m\u001b[0;34m\u001b[0m\u001b[0m\n\u001b[0m\u001b[1;32m      8\u001b[0m \u001b[0mplt\u001b[0m\u001b[0;34m.\u001b[0m\u001b[0mgcf\u001b[0m\u001b[0;34m(\u001b[0m\u001b[0;34m)\u001b[0m\u001b[0;34m.\u001b[0m\u001b[0mgca\u001b[0m\u001b[0;34m(\u001b[0m\u001b[0;34m)\u001b[0m\u001b[0;34m.\u001b[0m\u001b[0madd_artist\u001b[0m\u001b[0;34m(\u001b[0m\u001b[0mdraw_circle\u001b[0m\u001b[0;34m)\u001b[0m\u001b[0;34m\u001b[0m\u001b[0;34m\u001b[0m\u001b[0m\n\u001b[1;32m      9\u001b[0m \u001b[0mplt\u001b[0m\u001b[0;34m.\u001b[0m\u001b[0mscatter\u001b[0m\u001b[0;34m(\u001b[0m\u001b[0mx\u001b[0m\u001b[0;34m,\u001b[0m\u001b[0my\u001b[0m\u001b[0;34m)\u001b[0m\u001b[0;34m\u001b[0m\u001b[0;34m\u001b[0m\u001b[0m\n",
      "\u001b[0;31mTypeError\u001b[0m: 'bool' object is not subscriptable"
     ]
    }
   ],
   "source": [
    "P = nuagePoint(100, 1000)\n",
    "c = cercleMin(P)\n",
    "x,y = listPoints2Tuple(P)\n",
    "\n",
    "print(c)\n",
    "\n",
    "draw_circle = plt.Circle((c[1][0], c[1][1]), c[0],fill=False)\n",
    "plt.gcf().gca().add_artist(draw_circle)\n",
    "plt.scatter(x,y)\n",
    "\n",
    "plt.show()"
   ]
  },
  {
   "cell_type": "code",
   "execution_count": null,
   "metadata": {},
   "outputs": [],
   "source": []
  }
 ],
 "metadata": {
  "kernelspec": {
   "display_name": "Python 3",
   "language": "python",
   "name": "python3"
  },
  "language_info": {
   "codemirror_mode": {
    "name": "ipython",
    "version": 3
   },
   "file_extension": ".py",
   "mimetype": "text/x-python",
   "name": "python",
   "nbconvert_exporter": "python",
   "pygments_lexer": "ipython3",
   "version": "3.8.5"
  }
 },
 "nbformat": 4,
 "nbformat_minor": 4
}
